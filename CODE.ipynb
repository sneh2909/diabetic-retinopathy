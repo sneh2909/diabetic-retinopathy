{
 "cells": [
  {
   "cell_type": "code",
   "execution_count": 1,
   "metadata": {
    "colab": {
     "base_uri": "https://localhost:8080/",
     "height": 0
    },
    "id": "poP-rMZwhsWR",
    "outputId": "0ea063a1-973b-46c2-c3e7-8053a2cb1255"
   },
   "outputs": [
    {
     "name": "stdout",
     "output_type": "stream",
     "text": [
      "Mounted at /content/drive\n"
     ]
    }
   ],
   "source": [
    "from google.colab import drive\n",
    "drive.mount('/content/drive')"
   ]
  },
  {
   "cell_type": "markdown",
   "metadata": {
    "id": "q1CXff8DhY3B"
   },
   "source": [
    "**Import Module**"
   ]
  },
  {
   "cell_type": "code",
   "execution_count": 2,
   "metadata": {
    "colab": {
     "base_uri": "https://localhost:8080/",
     "height": 0
    },
    "execution": {
     "iopub.execute_input": "2022-04-26T09:05:03.437620Z",
     "iopub.status.busy": "2022-04-26T09:05:03.437166Z",
     "iopub.status.idle": "2022-04-26T09:05:12.131995Z",
     "shell.execute_reply": "2022-04-26T09:05:12.131078Z",
     "shell.execute_reply.started": "2022-04-26T09:05:03.437579Z"
    },
    "id": "m5ZS-Yv0hY3C",
    "outputId": "b1445394-3a3f-43ff-ae2f-1b174773c0cb"
   },
   "outputs": [
    {
     "name": "stdout",
     "output_type": "stream",
     "text": [
      "Requirement already satisfied: imutils in /usr/local/lib/python3.7/dist-packages (0.5.4)\n"
     ]
    }
   ],
   "source": [
    "!pip install imutils"
   ]
  },
  {
   "cell_type": "code",
   "execution_count": 3,
   "metadata": {
    "execution": {
     "iopub.execute_input": "2022-04-26T09:05:12.134174Z",
     "iopub.status.busy": "2022-04-26T09:05:12.133886Z",
     "iopub.status.idle": "2022-04-26T09:05:12.148365Z",
     "shell.execute_reply": "2022-04-26T09:05:12.147485Z",
     "shell.execute_reply.started": "2022-04-26T09:05:12.134133Z"
    },
    "id": "BbcNarqJhY3E"
   },
   "outputs": [],
   "source": [
    "#!pip install imutils\n",
    "import keras\n",
    "import tensorflow\n",
    "import os\n",
    "from keras.layers import Input\n",
    "from tensorflow.keras.preprocessing.image import ImageDataGenerator\n",
    "from keras.layers import Flatten, Dense, Conv2D, MaxPooling2D, Dropout\n",
    "from tensorflow.keras.layers import Dropout\n",
    "from tensorflow.keras.layers import Flatten\n",
    "from tensorflow.keras.layers import Dense\n",
    "from tensorflow.keras.layers import Input\n",
    "from keras.layers import BatchNormalization\n",
    "from tensorflow.keras import Sequential\n",
    "from tensorflow.keras.optimizers import Adam\n",
    "from tensorflow.keras.preprocessing.image import img_to_array\n",
    "from tensorflow.keras.preprocessing.image import load_img\n",
    "from tensorflow.keras.utils import to_categorical\n",
    "from sklearn.preprocessing import LabelBinarizer\n",
    "from sklearn.model_selection import train_test_split\n",
    "from imutils import paths\n",
    "import matplotlib.pyplot as plt\n",
    "from keras.models import Model\n",
    "from sklearn.utils import shuffle\n",
    "from cv2 import imread\n",
    "import numpy as np\n",
    "import pandas as pd\n",
    "import shutil\n",
    "import time\n",
    "import os\n",
    "import seaborn as sns\n",
    "sns.set_style('darkgrid')\n",
    "from PIL import Image\n",
    "from sklearn.metrics import confusion_matrix, classification_report\n",
    "from IPython.core.display import display, HTML"
   ]
  },
  {
   "cell_type": "markdown",
   "metadata": {
    "id": "mbanzfkdhY3F"
   },
   "source": [
    "**Load Data**"
   ]
  },
  {
   "cell_type": "code",
   "execution_count": 4,
   "metadata": {
    "_cell_guid": "b1076dfc-b9ad-4769-8c92-a6c4dae69d19",
    "_uuid": "8f2839f25d086af736a60e9eeb907d3b93b6e0e5",
    "colab": {
     "base_uri": "https://localhost:8080/",
     "height": 0
    },
    "execution": {
     "iopub.execute_input": "2022-04-26T09:05:12.151708Z",
     "iopub.status.busy": "2022-04-26T09:05:12.150188Z",
     "iopub.status.idle": "2022-04-26T09:05:31.141845Z",
     "shell.execute_reply": "2022-04-26T09:05:31.140819Z",
     "shell.execute_reply.started": "2022-04-26T09:05:12.151624Z"
    },
    "id": "COsAXUD-hY3G",
    "outputId": "b7f68d3a-e230-4f88-908d-aebe2269cf08"
   },
   "outputs": [
    {
     "name": "stdout",
     "output_type": "stream",
     "text": [
      "(3662, 150, 150, 3)\n",
      "(3662, 5)\n"
     ]
    }
   ],
   "source": [
    "data = []\n",
    "labels = []\n",
    "width,height=150,150\n",
    "\n",
    "imagePaths = list(paths.list_images('/content/drive/MyDrive/gaussian_filtered_images'))\n",
    "data = []\n",
    "labels = []\n",
    "\n",
    "for imagePath in imagePaths:\n",
    "    label = imagePath.split(os.path.sep)[-2]\n",
    "    image = load_img(imagePath, target_size=(width, height))\n",
    "    image = img_to_array(image)\n",
    "    data.append(image)\n",
    "    labels.append(label)\n",
    "\n",
    "data = np.array(data, dtype=\"float32\")\n",
    "labels = np.array(labels)\n",
    "\n",
    "lb = LabelBinarizer()\n",
    "labels = lb.fit_transform(labels)\n",
    "#labels = to_categorical(labels)\n",
    "\n",
    "data, labels = shuffle(data, labels)\n",
    "\n",
    "print(data.shape)\n",
    "print(labels.shape)"
   ]
  },
  {
   "cell_type": "code",
   "execution_count": 5,
   "metadata": {
    "colab": {
     "base_uri": "https://localhost:8080/",
     "height": 303
    },
    "execution": {
     "iopub.execute_input": "2022-04-26T09:05:31.144654Z",
     "iopub.status.busy": "2022-04-26T09:05:31.144412Z",
     "iopub.status.idle": "2022-04-26T09:05:31.368992Z",
     "shell.execute_reply": "2022-04-26T09:05:31.368363Z",
     "shell.execute_reply.started": "2022-04-26T09:05:31.144623Z"
    },
    "id": "A-b0b1P5hY3G",
    "outputId": "4fbf003b-ed57-448a-fe96-d44cec687f09"
   },
   "outputs": [
    {
     "data": {
      "image/png": "[encoded data removed]",
      "text/plain": [
       "<Figure size 360x360 with 1 Axes>"
      ]
     },
     "metadata": {},
     "output_type": "display_data"
    }
   ],
   "source": [
    "df=pd.read_csv(\"/content/drive/MyDrive/gaussian_filtered_images/train.csv\")\n",
    "dfg=df.groupby(['diagnosis']).count()\n",
    "dfg.plot.pie(y=\"id_code\",figsize=(5,5),autopct='%1.1f%%',startangle=90)\n",
    "plt.show()"
   ]
  },
  {
   "cell_type": "markdown",
   "metadata": {
    "id": "C_bErA0ahY3G"
   },
   "source": [
    "**Split the data for training and testing**"
   ]
  },
  {
   "cell_type": "code",
   "execution_count": 6,
   "metadata": {
    "colab": {
     "base_uri": "https://localhost:8080/",
     "height": 0
    },
    "execution": {
     "iopub.execute_input": "2022-04-26T09:05:31.370856Z",
     "iopub.status.busy": "2022-04-26T09:05:31.370140Z",
     "iopub.status.idle": "2022-04-26T09:05:31.658330Z",
     "shell.execute_reply": "2022-04-26T09:05:31.657454Z",
     "shell.execute_reply.started": "2022-04-26T09:05:31.370821Z"
    },
    "id": "1wuHQV_bhY3H",
    "outputId": "2b56fbc9-5b1b-446c-c8f9-706aa34f57f0"
   },
   "outputs": [
    {
     "name": "stdout",
     "output_type": "stream",
     "text": [
      "Train images: (2746, 150, 150, 3)\n",
      "Test images: (916, 150, 150, 3)\n",
      "Train label: (2746, 5)\n",
      "Test label: (916, 5)\n"
     ]
    }
   ],
   "source": [
    "test_ratio = 0.20\n",
    "\n",
    "# train is now 80% of the entire data set\n",
    "x_train, x_test, y_train, y_test = train_test_split(data, labels, test_size=test_ratio)\n",
    "\n",
    "print(\"Train images:\",x_train.shape)\n",
    "print(\"Test images:\",x_test.shape)\n",
    "print(\"Train label:\",y_train.shape)\n",
    "print(\"Test label:\",y_test.shape)"
   ]
  },
  {
   "cell_type": "markdown",
   "metadata": {
    "id": "ruofjbWJhY3H"
   },
   "source": [
    "# CNN-ML Model\n",
    "> *   CNN layers extracting the features and Pass 3D features to Flatten Layer.\n",
    "> *   Flatten Layer Convert 3D features to 1D features.\n",
    "> *   Pass those 1D features to Machine Learning Classifier."
   ]
  },
  {
   "cell_type": "code",
   "execution_count": 21,
   "metadata": {
    "colab": {
     "base_uri": "https://localhost:8080/",
     "height": 0
    },
    "execution": {
     "iopub.execute_input": "2022-04-26T09:05:31.659750Z",
     "iopub.status.busy": "2022-04-26T09:05:31.659504Z",
     "iopub.status.idle": "2022-04-26T09:05:31.809724Z",
     "shell.execute_reply": "2022-04-26T09:05:31.808841Z",
     "shell.execute_reply.started": "2022-04-26T09:05:31.659718Z"
    },
    "id": "lWCli6aghY3H",
    "outputId": "ff804035-bf6d-49df-dc5c-b2cf34c985c4"
   },
   "outputs": [
    {
     "name": "stdout",
     "output_type": "stream",
     "text": [
      "Model: \"sequential_1\"\n",
      "_________________________________________________________________\n",
      " Layer (type)                Output Shape              Param #   \n",
      "=================================================================\n",
      " conv2d_5 (Conv2D)           (None, 148, 148, 16)      448       \n",
      "                                                                 \n",
      " max_pooling2d_5 (MaxPooling  (None, 74, 74, 16)       0         \n",
      " 2D)                                                             \n",
      "                                                                 \n",
      " conv2d_6 (Conv2D)           (None, 72, 72, 32)        4640      \n",
      "                                                                 \n",
      " max_pooling2d_6 (MaxPooling  (None, 36, 36, 32)       0         \n",
      " 2D)                                                             \n",
      "                                                                 \n",
      " conv2d_7 (Conv2D)           (None, 34, 34, 64)        18496     \n",
      "                                                                 \n",
      " max_pooling2d_7 (MaxPooling  (None, 17, 17, 64)       0         \n",
      " 2D)                                                             \n",
      "                                                                 \n",
      " conv2d_8 (Conv2D)           (None, 15, 15, 128)       73856     \n",
      "                                                                 \n",
      " max_pooling2d_8 (MaxPooling  (None, 7, 7, 128)        0         \n",
      " 2D)                                                             \n",
      "                                                                 \n",
      " conv2d_9 (Conv2D)           (None, 5, 5, 256)         295168    \n",
      "                                                                 \n",
      " max_pooling2d_9 (MaxPooling  (None, 2, 2, 256)        0         \n",
      " 2D)                                                             \n",
      "                                                                 \n",
      " batch_normalization_1 (Batc  (None, 2, 2, 256)        1024      \n",
      " hNormalization)                                                 \n",
      "                                                                 \n",
      " flatten_1 (Flatten)         (None, 1024)              0         \n",
      "                                                                 \n",
      " dropout_1 (Dropout)         (None, 1024)              0         \n",
      "                                                                 \n",
      " dense_2 (Dense)             (None, 1024)              1049600   \n",
      "                                                                 \n",
      " dense_3 (Dense)             (None, 5)                 5125      \n",
      "                                                                 \n",
      "=================================================================\n",
      "Total params: 1,448,357\n",
      "Trainable params: 1,447,845\n",
      "Non-trainable params: 512\n",
      "_________________________________________________________________\n"
     ]
    }
   ],
   "source": [
    "INIT_LR = 1e-4\n",
    "EPOCHS = 20\n",
    "BS = 32\n",
    "\n",
    "cnn_model=Sequential()\n",
    "cnn_model.add(Conv2D(16, (3, 3),activation='relu',input_shape=(150, 150, 3)))\n",
    "cnn_model.add(MaxPooling2D(2,2))\n",
    "cnn_model.add(Conv2D(32, (3, 3),activation='relu'))\n",
    "cnn_model.add(MaxPooling2D(2,2))\n",
    "cnn_model.add(Conv2D(64, (3, 3),activation='relu'))\n",
    "cnn_model.add(MaxPooling2D(2,2))\n",
    "cnn_model.add(Conv2D(128, (3, 3), activation='relu'))\n",
    "cnn_model.add(MaxPooling2D(2,2))\n",
    "cnn_model.add(Conv2D(256, (3, 3), activation='relu'))\n",
    "cnn_model.add(MaxPooling2D(2,2))\n",
    "cnn_model.add(BatchNormalization())\n",
    "cnn_model.add(Flatten())   #Features Are Extracted From this Layer\n",
    "cnn_model.add(Dropout(0.2))\n",
    "cnn_model.add(Dense(1024, activation='relu'))\n",
    "cnn_model.add(Dense(5, activation='sigmoid'))\n",
    "\n",
    "opt = Adam(learning_rate=INIT_LR)\n",
    "cnn_model.compile(optimizer=opt, loss='binary_crossentropy', metrics=['accuracy'])\n",
    "cnn_model.summary()\n"
   ]
  },
  {
   "cell_type": "markdown",
   "metadata": {
    "id": "fh1MsTRPhY3I"
   },
   "source": [
    "# Training CNN"
   ]
  },
  {
   "cell_type": "code",
   "execution_count": 22,
   "metadata": {
    "colab": {
     "base_uri": "https://localhost:8080/",
     "height": 0
    },
    "execution": {
     "iopub.execute_input": "2022-04-26T09:05:31.811182Z",
     "iopub.status.busy": "2022-04-26T09:05:31.810858Z",
     "iopub.status.idle": "2022-04-26T09:10:27.409619Z",
     "shell.execute_reply": "2022-04-26T09:10:27.408876Z",
     "shell.execute_reply.started": "2022-04-26T09:05:31.811147Z"
    },
    "id": "a7aMApYfhY3I",
    "outputId": "15a47e46-ffae-4bc1-a445-69420bfe67f7"
   },
   "outputs": [
    {
     "name": "stdout",
     "output_type": "stream",
     "text": [
      "[INFO] training head..\n",
      "Epoch 1/20\n",
      "78/78 [==============================] - 59s 739ms/step - loss: 0.3515 - accuracy: 0.6309 - val_loss: 0.9658 - val_accuracy: 0.5273\n",
      "Epoch 2/20\n",
      "78/78 [==============================] - 58s 745ms/step - loss: 0.2630 - accuracy: 0.7110 - val_loss: 0.4420 - val_accuracy: 0.5818\n",
      "Epoch 3/20\n",
      "78/78 [==============================] - 58s 745ms/step - loss: 0.2462 - accuracy: 0.7329 - val_loss: 0.2711 - val_accuracy: 0.7345\n",
      "Epoch 4/20\n",
      "78/78 [==============================] - 59s 753ms/step - loss: 0.2405 - accuracy: 0.7386 - val_loss: 0.6952 - val_accuracy: 0.5782\n",
      "Epoch 5/20\n",
      "78/78 [==============================] - 58s 747ms/step - loss: 0.2315 - accuracy: 0.7418 - val_loss: 0.3337 - val_accuracy: 0.7345\n",
      "Epoch 6/20\n",
      "78/78 [==============================] - 58s 746ms/step - loss: 0.2218 - accuracy: 0.7515 - val_loss: 0.4789 - val_accuracy: 0.4982\n",
      "Epoch 7/20\n",
      "78/78 [==============================] - 58s 746ms/step - loss: 0.2136 - accuracy: 0.7628 - val_loss: 0.3496 - val_accuracy: 0.6509\n",
      "Epoch 8/20\n",
      "78/78 [==============================] - 59s 751ms/step - loss: 0.2084 - accuracy: 0.7754 - val_loss: 0.8838 - val_accuracy: 0.1091\n",
      "Epoch 9/20\n",
      "78/78 [==============================] - 58s 748ms/step - loss: 0.2135 - accuracy: 0.7661 - val_loss: 0.4196 - val_accuracy: 0.6691\n",
      "Epoch 10/20\n",
      "78/78 [==============================] - 58s 743ms/step - loss: 0.2065 - accuracy: 0.7803 - val_loss: 1.2182 - val_accuracy: 0.5345\n",
      "Epoch 11/20\n",
      "78/78 [==============================] - 58s 746ms/step - loss: 0.2038 - accuracy: 0.7762 - val_loss: 1.0764 - val_accuracy: 0.5273\n",
      "Epoch 12/20\n",
      "78/78 [==============================] - 58s 746ms/step - loss: 0.1931 - accuracy: 0.7867 - val_loss: 0.7560 - val_accuracy: 0.5527\n",
      "Epoch 13/20\n",
      "78/78 [==============================] - 58s 744ms/step - loss: 0.1815 - accuracy: 0.8114 - val_loss: 1.2958 - val_accuracy: 0.2582\n",
      "Epoch 14/20\n",
      "78/78 [==============================] - 58s 745ms/step - loss: 0.1707 - accuracy: 0.8215 - val_loss: 0.9896 - val_accuracy: 0.3345\n",
      "Epoch 15/20\n",
      "78/78 [==============================] - 59s 751ms/step - loss: 0.1793 - accuracy: 0.8070 - val_loss: 0.7667 - val_accuracy: 0.5127\n",
      "Epoch 16/20\n",
      "78/78 [==============================] - 58s 746ms/step - loss: 0.1792 - accuracy: 0.8179 - val_loss: 0.5839 - val_accuracy: 0.6255\n",
      "Epoch 17/20\n",
      "78/78 [==============================] - 58s 743ms/step - loss: 0.1686 - accuracy: 0.8321 - val_loss: 0.7209 - val_accuracy: 0.3709\n",
      "Epoch 18/20\n",
      "78/78 [==============================] - 58s 744ms/step - loss: 0.1522 - accuracy: 0.8495 - val_loss: 0.4987 - val_accuracy: 0.5782\n",
      "Epoch 19/20\n",
      "78/78 [==============================] - 58s 744ms/step - loss: 0.1395 - accuracy: 0.8669 - val_loss: 1.5164 - val_accuracy: 0.5273\n",
      "Epoch 20/20\n",
      "78/78 [==============================] - 58s 745ms/step - loss: 0.1270 - accuracy: 0.8863 - val_loss: 0.3320 - val_accuracy: 0.7164\n",
      "Done !!\n"
     ]
    }
   ],
   "source": [
    "# train the head of the network\n",
    "print(\"[INFO] training head..\")\n",
    "h = cnn_model.fit(x_train,y_train,epochs=EPOCHS,validation_split=0.1,verbose=1, batch_size=32)\n",
    "print(\"Done !!\")"
   ]
  },
  {
   "cell_type": "code",
   "execution_count": 23,
   "metadata": {
    "colab": {
     "base_uri": "https://localhost:8080/",
     "height": 0
    },
    "id": "2OsTTrb7r9oU",
    "outputId": "d957df16-9eec-4b8b-8565-32816cfc49e2"
   },
   "outputs": [
    {
     "name": "stdout",
     "output_type": "stream",
     "text": [
      "Requirement already satisfied: scikit-plot in /usr/local/lib/python3.7/dist-packages (0.3.7)\n",
      "Requirement already satisfied: joblib>=0.10 in /usr/local/lib/python3.7/dist-packages (from scikit-plot) (1.1.0)\n",
      "Requirement already satisfied: matplotlib>=1.4.0 in /usr/local/lib/python3.7/dist-packages (from scikit-plot) (3.2.2)\n",
      "Requirement already satisfied: scikit-learn>=0.18 in /usr/local/lib/python3.7/dist-packages (from scikit-plot) (1.0.2)\n",
      "Requirement already satisfied: scipy>=0.9 in /usr/local/lib/python3.7/dist-packages (from scikit-plot) (1.4.1)\n",
      "Requirement already satisfied: kiwisolver>=1.0.1 in /usr/local/lib/python3.7/dist-packages (from matplotlib>=1.4.0->scikit-plot) (1.4.2)\n",
      "Requirement already satisfied: pyparsing!=2.0.4,!=2.1.2,!=2.1.6,>=2.0.1 in /usr/local/lib/python3.7/dist-packages (from matplotlib>=1.4.0->scikit-plot) (3.0.8)\n",
      "Requirement already satisfied: python-dateutil>=2.1 in /usr/local/lib/python3.7/dist-packages (from matplotlib>=1.4.0->scikit-plot) (2.8.2)\n",
      "Requirement already satisfied: numpy>=1.11 in /usr/local/lib/python3.7/dist-packages (from matplotlib>=1.4.0->scikit-plot) (1.21.6)\n",
      "Requirement already satisfied: cycler>=0.10 in /usr/local/lib/python3.7/dist-packages (from matplotlib>=1.4.0->scikit-plot) (0.11.0)\n",
      "Requirement already satisfied: typing-extensions in /usr/local/lib/python3.7/dist-packages (from kiwisolver>=1.0.1->matplotlib>=1.4.0->scikit-plot) (4.2.0)\n",
      "Requirement already satisfied: six>=1.5 in /usr/local/lib/python3.7/dist-packages (from python-dateutil>=2.1->matplotlib>=1.4.0->scikit-plot) (1.15.0)\n",
      "Requirement already satisfied: threadpoolctl>=2.0.0 in /usr/local/lib/python3.7/dist-packages (from scikit-learn>=0.18->scikit-plot) (3.1.0)\n"
     ]
    }
   ],
   "source": [
    "!pip install scikit-plot"
   ]
  },
  {
   "cell_type": "code",
   "execution_count": 24,
   "metadata": {
    "colab": {
     "base_uri": "https://localhost:8080/",
     "height": 438
    },
    "execution": {
     "iopub.execute_input": "2022-04-26T09:10:27.410997Z",
     "iopub.status.busy": "2022-04-26T09:10:27.410737Z",
     "iopub.status.idle": "2022-04-26T09:10:34.356277Z",
     "shell.execute_reply": "2022-04-26T09:10:34.355432Z",
     "shell.execute_reply.started": "2022-04-26T09:10:27.410966Z"
    },
    "id": "nFSBG11HhY3J",
    "outputId": "aee97ea8-22d5-4ece-aca0-52a2ae6e2990"
   },
   "outputs": [
    {
     "name": "stdout",
     "output_type": "stream",
     "text": [
      "[INFO] evaluating network...\n",
      "\n",
      "Trainig Accuracy Score:- 76.18353969410052\n",
      "\n",
      "Testing Accuracy Score:- 69.65065502183407\n",
      "\n",
      "Traning Graph:- \n",
      " \n"
     ]
    },
    {
     "data": {
      "image/png": "[encoded data removed]",
      "text/plain": [
       "<Figure size 432x288 with 1 Axes>"
      ]
     },
     "metadata": {},
     "output_type": "display_data"
    }
   ],
   "source": [
    "#!pip install scikit-plot\n",
    "from sklearn.metrics import classification_report\n",
    "import matplotlib.pyplot as plt\n",
    "import numpy as np\n",
    "import scikitplot as skplt\n",
    "from sklearn.metrics import accuracy_score\n",
    "import numpy as np\n",
    "from sklearn import metrics\n",
    "\n",
    "print(\"[INFO] evaluating network...\")\n",
    "predIdxs = cnn_model.predict(x_test, batch_size=BS)\n",
    "predIdxs = np.argmax(predIdxs, axis=1)\n",
    "\n",
    "trainpredIdxs = cnn_model.predict(x_train, batch_size=BS)\n",
    "trainpredIdxs = np.argmax(trainpredIdxs, axis=1)\n",
    "\n",
    "trainCNNScore=accuracy_score(trainpredIdxs,np.argmax(y_train,axis=1))*100\n",
    "CNNScore=accuracy_score(predIdxs,np.argmax(y_test,axis=1))*100\n",
    "\n",
    "print(\"\\nTrainig Accuracy Score:-\",trainCNNScore)\n",
    "print(\"\\nTesting Accuracy Score:-\",CNNScore)\n",
    "print(\"\\nTraning Graph:- \\n \")\n",
    "\n",
    "# plot the training loss and accuracy\n",
    "N = EPOCHS\n",
    "plt.style.use(\"ggplot\")\n",
    "plt.figure()\n",
    "plt.plot(np.arange(0, N), h.history[\"loss\"], label=\"train_loss\")\n",
    "plt.plot(np.arange(0, N), h.history[\"accuracy\"], label=\"train_acc\")\n",
    "plt.title(\"Training Loss and Accuracy\")\n",
    "plt.xlabel(\"Epoch #\")\n",
    "plt.ylabel(\"Loss/Accuracy\")\n",
    "plt.legend(loc=\"lower left\",)\n",
    "plt.show()"
   ]
  },
  {
   "cell_type": "code",
   "execution_count": 25,
   "metadata": {
    "colab": {
     "base_uri": "https://localhost:8080/",
     "height": 299
    },
    "execution": {
     "iopub.execute_input": "2022-04-26T09:10:34.357991Z",
     "iopub.status.busy": "2022-04-26T09:10:34.357694Z",
     "iopub.status.idle": "2022-04-26T09:10:34.654829Z",
     "shell.execute_reply": "2022-04-26T09:10:34.654064Z",
     "shell.execute_reply.started": "2022-04-26T09:10:34.357951Z"
    },
    "id": "ATQ7LmSkhY3J",
    "outputId": "52690541-1077-4ff5-8016-21511adfe7fa"
   },
   "outputs": [
    {
     "data": {
      "image/png": "[encoded data removed]",
      "text/plain": [
       "<Figure size 432x288 with 1 Axes>"
      ]
     },
     "metadata": {},
     "output_type": "display_data"
    }
   ],
   "source": [
    "acc =  h.history[\"accuracy\"]\n",
    "val_acc = h.history['val_accuracy']\n",
    "\n",
    "plt.plot(acc, label='Training Accuracy')\n",
    "plt.plot(val_acc, label='Validation Accuracy')\n",
    "plt.legend(loc='lower right')\n",
    "plt.ylabel('Accuracy')\n",
    "plt.xlim([0,20])\n",
    "plt.ylim([min(plt.ylim()),1])\n",
    "plt.title('Training and Validation Accuracy')\n",
    "plt.xlabel('Epoch')\n",
    "plt.show()"
   ]
  },
  {
   "cell_type": "code",
   "execution_count": 26,
   "metadata": {
    "colab": {
     "base_uri": "https://localhost:8080/",
     "height": 0
    },
    "execution": {
     "iopub.execute_input": "2022-04-26T09:10:34.657533Z",
     "iopub.status.busy": "2022-04-26T09:10:34.657282Z",
     "iopub.status.idle": "2022-04-26T09:10:36.180229Z",
     "shell.execute_reply": "2022-04-26T09:10:36.179588Z",
     "shell.execute_reply.started": "2022-04-26T09:10:34.657504Z"
    },
    "id": "S2eCYJQchY3J",
    "outputId": "479211d9-8cff-4237-ad3a-9e602048d2c5"
   },
   "outputs": [
    {
     "name": "stdout",
     "output_type": "stream",
     "text": [
      "              precision    recall  f1-score   support\n",
      "\n",
      "           0       1.00      0.03      0.06       100\n",
      "           1       0.49      0.96      0.65       245\n",
      "           2       0.93      0.92      0.92       433\n",
      "           3       0.17      0.01      0.02        79\n",
      "           4       0.00      0.00      0.00        59\n",
      "\n",
      "    accuracy                           0.70       916\n",
      "   macro avg       0.52      0.38      0.33       916\n",
      "weighted avg       0.69      0.70      0.62       916\n",
      "\n"
     ]
    },
    {
     "name": "stderr",
     "output_type": "stream",
     "text": [
      "/usr/local/lib/python3.7/dist-packages/sklearn/metrics/_classification.py:1318: UndefinedMetricWarning: Precision and F-score are ill-defined and being set to 0.0 in labels with no predicted samples. Use `zero_division` parameter to control this behavior.\n",
      "  _warn_prf(average, modifier, msg_start, len(result))\n",
      "/usr/local/lib/python3.7/dist-packages/sklearn/metrics/_classification.py:1318: UndefinedMetricWarning: Precision and F-score are ill-defined and being set to 0.0 in labels with no predicted samples. Use `zero_division` parameter to control this behavior.\n",
      "  _warn_prf(average, modifier, msg_start, len(result))\n",
      "/usr/local/lib/python3.7/dist-packages/sklearn/metrics/_classification.py:1318: UndefinedMetricWarning: Precision and F-score are ill-defined and being set to 0.0 in labels with no predicted samples. Use `zero_division` parameter to control this behavior.\n",
      "  _warn_prf(average, modifier, msg_start, len(result))\n"
     ]
    }
   ],
   "source": [
    "pred = cnn_model.predict(x_test)\n",
    "pred = np.argmax(pred,axis=1)\n",
    "y_test_new = np.argmax(y_test,axis=1)\n",
    "print(classification_report(y_test_new,pred))"
   ]
  },
  {
   "cell_type": "code",
   "execution_count": 27,
   "metadata": {
    "colab": {
     "base_uri": "https://localhost:8080/",
     "height": 0
    },
    "execution": {
     "iopub.execute_input": "2022-04-26T09:10:36.181582Z",
     "iopub.status.busy": "2022-04-26T09:10:36.181175Z",
     "iopub.status.idle": "2022-04-26T09:10:36.189963Z",
     "shell.execute_reply": "2022-04-26T09:10:36.189419Z",
     "shell.execute_reply.started": "2022-04-26T09:10:36.181523Z"
    },
    "id": "RaABGMO8hY3K",
    "outputId": "8d610adc-257e-4082-f613-483d4cddbff7"
   },
   "outputs": [
    {
     "data": {
      "text/plain": [
       "array([[  3,  82,  13,   2,   0],\n",
       "       [  0, 235,  10,   0,   0],\n",
       "       [  0,  34, 399,   0,   0],\n",
       "       [  0,  72,   6,   1,   0],\n",
       "       [  0,  53,   3,   3,   0]])"
      ]
     },
     "execution_count": 27,
     "metadata": {},
     "output_type": "execute_result"
    }
   ],
   "source": [
    "from sklearn.metrics import classification_report,confusion_matrix\n",
    "cm = confusion_matrix(y_test_new, pred)\n",
    "cm"
   ]
  },
  {
   "cell_type": "markdown",
   "metadata": {
    "id": "AkLw_w8vhY3K"
   },
   "source": [
    "# Extracting Features"
   ]
  },
  {
   "cell_type": "code",
   "execution_count": 28,
   "metadata": {
    "colab": {
     "base_uri": "https://localhost:8080/",
     "height": 0
    },
    "execution": {
     "iopub.execute_input": "2022-04-26T09:10:36.191570Z",
     "iopub.status.busy": "2022-04-26T09:10:36.191174Z",
     "iopub.status.idle": "2022-04-26T09:10:42.761417Z",
     "shell.execute_reply": "2022-04-26T09:10:42.760566Z",
     "shell.execute_reply.started": "2022-04-26T09:10:36.191516Z"
    },
    "id": "3O466lNyhY3K",
    "outputId": "e070aee4-1257-4733-a6dd-e2061c4a0b2c"
   },
   "outputs": [
    {
     "name": "stdout",
     "output_type": "stream",
     "text": [
      "(2746, 1024)\n"
     ]
    }
   ],
   "source": [
    "extractCNN = Model(cnn_model.inputs, cnn_model.layers[-4].output)\n",
    "\n",
    "#del(data)\n",
    "#del(labels)\n",
    "feat_trainCNN  = extractCNN.predict(x_train)  \n",
    "feat_testCNN = extractCNN.predict(x_test)      \n",
    "\n",
    "print(feat_trainCNN.shape)"
   ]
  },
  {
   "cell_type": "markdown",
   "metadata": {
    "id": "aPHPxhA9hY3K"
   },
   "source": [
    "# Training Machine Learning Classifier"
   ]
  },
  {
   "cell_type": "markdown",
   "metadata": {
    "id": "fPHv4iaBhY3L"
   },
   "source": [
    "**Support Vector Machine (SVM)**"
   ]
  },
  {
   "cell_type": "code",
   "execution_count": 29,
   "metadata": {
    "colab": {
     "base_uri": "https://localhost:8080/",
     "height": 0
    },
    "execution": {
     "iopub.execute_input": "2022-04-26T09:10:42.763100Z",
     "iopub.status.busy": "2022-04-26T09:10:42.762511Z",
     "iopub.status.idle": "2022-04-26T09:10:58.986352Z",
     "shell.execute_reply": "2022-04-26T09:10:58.985380Z",
     "shell.execute_reply.started": "2022-04-26T09:10:42.763054Z"
    },
    "id": "c1CA7LxNhY3L",
    "outputId": "5aa3610b-053d-465e-9f4a-f7e9324a3465"
   },
   "outputs": [
    {
     "name": "stdout",
     "output_type": "stream",
     "text": [
      "SVM Training Accuracy Score:- 81.86453022578296\n",
      "\n",
      "SVM Testing Accuracy Score:- 72.81659388646288\n",
      "\n",
      "Confusion Metrics \n",
      " [[ 29  54  17   0   0]\n",
      " [ 18 210  17   0   0]\n",
      " [  5   2 426   0   0]\n",
      " [ 10  63   6   0   0]\n",
      " [  4  48   4   1   2]]\n",
      "              precision    recall  f1-score   support\n",
      "\n",
      "           0       0.44      0.29      0.35       100\n",
      "           1       0.56      0.86      0.68       245\n",
      "           2       0.91      0.98      0.94       433\n",
      "           3       0.00      0.00      0.00        79\n",
      "           4       1.00      0.03      0.07        59\n",
      "\n",
      "    accuracy                           0.73       916\n",
      "   macro avg       0.58      0.43      0.41       916\n",
      "weighted avg       0.69      0.73      0.67       916\n",
      "\n"
     ]
    }
   ],
   "source": [
    "from sklearn.svm import SVC\n",
    "\n",
    "svm = SVC(kernel='rbf')\n",
    "svm.fit(feat_trainCNN,np.argmax(y_train,axis=1))\n",
    "\n",
    "TrainSVMScoreCNN=svm.score(feat_trainCNN,np.argmax(y_train,axis=1))*100\n",
    "print(\"SVM Training Accuracy Score:-\",TrainSVMScoreCNN)\n",
    "\n",
    "TestSVMScoreCNN=svm.score(feat_testCNN,np.argmax(y_test,axis=1))*100\n",
    "print(\"\\nSVM Testing Accuracy Score:-\",TestSVMScoreCNN)\n",
    "\n",
    "y_pred = svm.predict(feat_testCNN)\n",
    "\n",
    "cm = confusion_matrix(np.argmax(y_test,axis=1), y_pred)\n",
    "print('\\nConfusion Metrics \\n',cm)\n",
    "\n",
    "print(classification_report(np.argmax(y_test,axis=1),y_pred))"
   ]
  },
  {
   "cell_type": "markdown",
   "metadata": {
    "id": "RJ6wTOLhhY3L"
   },
   "source": [
    "**Decision Tree**"
   ]
  },
  {
   "cell_type": "code",
   "execution_count": 30,
   "metadata": {
    "colab": {
     "base_uri": "https://localhost:8080/",
     "height": 0
    },
    "execution": {
     "iopub.execute_input": "2022-04-26T09:10:58.988389Z",
     "iopub.status.busy": "2022-04-26T09:10:58.987850Z",
     "iopub.status.idle": "2022-04-26T09:11:00.223606Z",
     "shell.execute_reply": "2022-04-26T09:11:00.222701Z",
     "shell.execute_reply.started": "2022-04-26T09:10:58.988353Z"
    },
    "id": "Ctie3A6YhY3L",
    "outputId": "ed77d535-8c52-430d-e645-a17d70de9bdf"
   },
   "outputs": [
    {
     "name": "stdout",
     "output_type": "stream",
     "text": [
      "Decision Tree Training Accuracy Score:- 99.2352512745812\n",
      "\n",
      "Decision Tree Testing Accuracy Score:- 64.8471615720524\n",
      "\n",
      "Confusion Metrics \n",
      " [[ 40  34  12   9   5]\n",
      " [ 27 146  17  32  23]\n",
      " [  9  16 387  13   8]\n",
      " [ 12  38   6  15   8]\n",
      " [  8  29   6  10   6]]\n",
      "              precision    recall  f1-score   support\n",
      "\n",
      "           0       0.42      0.40      0.41       100\n",
      "           1       0.56      0.60      0.57       245\n",
      "           2       0.90      0.89      0.90       433\n",
      "           3       0.19      0.19      0.19        79\n",
      "           4       0.12      0.10      0.11        59\n",
      "\n",
      "    accuracy                           0.65       916\n",
      "   macro avg       0.44      0.44      0.44       916\n",
      "weighted avg       0.65      0.65      0.65       916\n",
      "\n"
     ]
    }
   ],
   "source": [
    "from sklearn.tree import DecisionTreeClassifier\n",
    "\n",
    "clf = DecisionTreeClassifier(criterion = 'gini',random_state=0)\n",
    "clf = clf.fit(feat_trainCNN,np.argmax(y_train,axis=1))\n",
    "\n",
    "TrainDecisionScoreCNN=clf.score(feat_trainCNN,np.argmax(y_train,axis=1))*100\n",
    "print(\"Decision Tree Training Accuracy Score:-\",TrainDecisionScoreCNN)\n",
    "\n",
    "\n",
    "TestDecisionScoreCNN=clf.score(feat_testCNN,np.argmax(y_test,axis=1))*100\n",
    "print(\"\\nDecision Tree Testing Accuracy Score:-\",TestDecisionScoreCNN)\n",
    "y_pred = clf.predict(feat_testCNN)\n",
    "\n",
    "cm = confusion_matrix(np.argmax(y_test,axis=1), y_pred)\n",
    "print('\\nConfusion Metrics \\n',cm)\n",
    "print(classification_report(np.argmax(y_test,axis=1),y_pred))"
   ]
  },
  {
   "cell_type": "markdown",
   "metadata": {
    "id": "t_4SChU5hY3M"
   },
   "source": [
    "**K-Nearest Neighbor(KNN)**"
   ]
  },
  {
   "cell_type": "code",
   "execution_count": 31,
   "metadata": {
    "colab": {
     "base_uri": "https://localhost:8080/",
     "height": 0
    },
    "execution": {
     "iopub.execute_input": "2022-04-26T09:11:00.225130Z",
     "iopub.status.busy": "2022-04-26T09:11:00.224848Z",
     "iopub.status.idle": "2022-04-26T09:11:29.271037Z",
     "shell.execute_reply": "2022-04-26T09:11:29.270266Z",
     "shell.execute_reply.started": "2022-04-26T09:11:00.225097Z"
    },
    "id": "kE9MI-mHhY3M",
    "outputId": "e83e23fd-369d-4c5c-b12a-6476d027fd0e"
   },
   "outputs": [
    {
     "name": "stdout",
     "output_type": "stream",
     "text": [
      "KNN Training Accuracy Score:- 83.94027676620539\n",
      "\n",
      "KNN Testing Accuracy Score:- 71.06986899563319\n",
      "\n",
      "Confusion Metrics \n",
      " [[ 42  36  16   4   2]\n",
      " [ 39 180  14   8   4]\n",
      " [  4  10 418   0   1]\n",
      " [ 18  47   8   5   1]\n",
      " [ 10  35   6   2   6]]\n",
      "              precision    recall  f1-score   support\n",
      "\n",
      "           0       0.37      0.42      0.39       100\n",
      "           1       0.58      0.73      0.65       245\n",
      "           2       0.90      0.97      0.93       433\n",
      "           3       0.26      0.06      0.10        79\n",
      "           4       0.43      0.10      0.16        59\n",
      "\n",
      "    accuracy                           0.71       916\n",
      "   macro avg       0.51      0.46      0.45       916\n",
      "weighted avg       0.67      0.71      0.68       916\n",
      "\n"
     ]
    }
   ],
   "source": [
    "from sklearn.neighbors import KNeighborsClassifier\n",
    "\n",
    "knn = KNeighborsClassifier(n_neighbors=5,metric = 'euclidean')\n",
    "knn.fit(feat_trainCNN,np.argmax(y_train,axis=1))\n",
    "\n",
    "TrainKNNScoreCNN=knn.score(feat_trainCNN,np.argmax(y_train,axis=1))*100\n",
    "print(\"KNN Training Accuracy Score:-\",TrainKNNScoreCNN)\n",
    "\n",
    "TestKNNScoreCNN=knn.score(feat_testCNN,np.argmax(y_test,axis=1))*100\n",
    "print(\"\\nKNN Testing Accuracy Score:-\",TestKNNScoreCNN)\n",
    "\n",
    "y_pred = knn.predict(feat_testCNN)\n",
    "\n",
    "cm = confusion_matrix(np.argmax(y_test,axis=1), y_pred)\n",
    "print('\\nConfusion Metrics \\n',cm)\n",
    "print(classification_report(np.argmax(y_test,axis=1),y_pred))"
   ]
  },
  {
   "cell_type": "markdown",
   "metadata": {
    "id": "M6FmC5VwhY3M"
   },
   "source": [
    "**Random Forset**"
   ]
  },
  {
   "cell_type": "code",
   "execution_count": 32,
   "metadata": {
    "colab": {
     "base_uri": "https://localhost:8080/",
     "height": 0
    },
    "execution": {
     "iopub.execute_input": "2022-04-26T09:11:29.272486Z",
     "iopub.status.busy": "2022-04-26T09:11:29.272166Z",
     "iopub.status.idle": "2022-04-26T09:11:29.862420Z",
     "shell.execute_reply": "2022-04-26T09:11:29.861577Z",
     "shell.execute_reply.started": "2022-04-26T09:11:29.272455Z"
    },
    "id": "8K-Qo_XqhY3M",
    "outputId": "21402422-5854-4e35-f088-feaa4f48fe66"
   },
   "outputs": [
    {
     "name": "stdout",
     "output_type": "stream",
     "text": [
      "random forest Training Accuracy Score:- 98.2884195193008\n",
      "\n",
      "random forestTesting Accuracy Score:- 70.96069868995633\n",
      "\n",
      "Confusion Metrics \n",
      " [[ 34  41  20   4   1]\n",
      " [ 22 194  18   5   6]\n",
      " [  4  12 414   1   2]\n",
      " [ 16  47   9   4   3]\n",
      " [  7  37   6   5   4]]\n",
      "              precision    recall  f1-score   support\n",
      "\n",
      "           0       0.41      0.34      0.37       100\n",
      "           1       0.59      0.79      0.67       245\n",
      "           2       0.89      0.96      0.92       433\n",
      "           3       0.21      0.05      0.08        79\n",
      "           4       0.25      0.07      0.11        59\n",
      "\n",
      "    accuracy                           0.71       916\n",
      "   macro avg       0.47      0.44      0.43       916\n",
      "weighted avg       0.65      0.71      0.67       916\n",
      "\n"
     ]
    }
   ],
   "source": [
    "from sklearn.ensemble import RandomForestClassifier\n",
    "classifier = RandomForestClassifier(n_estimators = 10, criterion = 'entropy', random_state = 0)\n",
    "classifier.fit(feat_trainCNN,np.argmax(y_train,axis=1))\n",
    "TrainRFScoreCNN=classifier.score(feat_trainCNN,np.argmax(y_train,axis=1))*100\n",
    "print(\"random forest Training Accuracy Score:-\",TrainRFScoreCNN)\n",
    "\n",
    "TestRFScoreCNN=classifier.score(feat_testCNN,np.argmax(y_test,axis=1))*100\n",
    "print(\"\\nrandom forestTesting Accuracy Score:-\",TestRFScoreCNN)\n",
    "\n",
    "y_pred = classifier.predict(feat_testCNN)\n",
    "\n",
    "cm = confusion_matrix(np.argmax(y_test,axis=1), y_pred)\n",
    "print('\\nConfusion Metrics \\n',cm)\n",
    "print(classification_report(np.argmax(y_test,axis=1),y_pred))"
   ]
  },
  {
   "cell_type": "markdown",
   "metadata": {
    "id": "nxvaL-92hY3N"
   },
   "source": [
    "# Summary"
   ]
  },
  {
   "cell_type": "markdown",
   "metadata": {
    "id": "voD1hJ27hY3N"
   },
   "source": [
    "> CNN-svm model shows highest accuarcy followed closely by CNN-knn and CNN."
   ]
  },
  {
   "cell_type": "code",
   "execution_count": 33,
   "metadata": {
    "colab": {
     "base_uri": "https://localhost:8080/",
     "height": 0
    },
    "execution": {
     "iopub.execute_input": "2022-04-26T09:11:29.863769Z",
     "iopub.status.busy": "2022-04-26T09:11:29.863552Z",
     "iopub.status.idle": "2022-04-26T09:11:29.872286Z",
     "shell.execute_reply": "2022-04-26T09:11:29.871487Z",
     "shell.execute_reply.started": "2022-04-26T09:11:29.863743Z"
    },
    "id": "iM3iyG8yhY3N",
    "outputId": "c9c7c33e-c55d-4b1b-e8d3-30cf5944f19d"
   },
   "outputs": [
    {
     "name": "stdout",
     "output_type": "stream",
     "text": [
      "--Training Accuracy..\n",
      "CNN Accuracy:- 76.18 %\n",
      "CNN-SVM Accuracy:- 81.86 %\n",
      "CNN-DT Accuracy:- 99.24 %\n",
      "CNN-KNN Accuracy:- 83.94 %\n",
      "CNN-RF Accuracy:- 98.29 %\n",
      "\n",
      "--Testing Accuracy..\n",
      "CNN Accuracy:- 69.65 %\n",
      "CNN-SVM Accuracy:- 72.82 %\n",
      "CNN-DT Accuracy:- 64.85 %\n",
      "CNN-KNN Accuracy:- 71.07 %\n",
      "CNN-RF Accuracy:- 70.96 %\n"
     ]
    }
   ],
   "source": [
    "print(\"--Training Accuracy..\")\n",
    "print(\"CNN Accuracy:- {:.2f} %\".format(trainCNNScore))\n",
    "print(\"CNN-SVM Accuracy:- {:.2f} %\".format(TrainSVMScoreCNN))\n",
    "print(\"CNN-DT Accuracy:- {:.2f} %\".format(TrainDecisionScoreCNN))\n",
    "print(\"CNN-KNN Accuracy:- {:.2f} %\".format(TrainKNNScoreCNN))\n",
    "print(\"CNN-RF Accuracy:- {:.2f} %\".format(TrainRFScoreCNN))\n",
    "\n",
    "print(\"\\n--Testing Accuracy..\")\n",
    "print(\"CNN Accuracy:- {:.2f} %\".format(CNNScore))\n",
    "print(\"CNN-SVM Accuracy:- {:.2f} %\".format(TestSVMScoreCNN))\n",
    "print(\"CNN-DT Accuracy:- {:.2f} %\".format(TestDecisionScoreCNN))\n",
    "print(\"CNN-KNN Accuracy:- {:.2f} %\".format(TestKNNScoreCNN))\n",
    "print(\"CNN-RF Accuracy:- {:.2f} %\".format(TestRFScoreCNN))\n"
   ]
  },
  {
   "cell_type": "code",
   "execution_count": null,
   "metadata": {
    "id": "8HS_PgNus-MN"
   },
   "outputs": [],
   "source": []
  }
 ],
 "metadata": {
  "colab": {
   "collapsed_sections": [],
   "name": "ds-30.ipynb",
   "provenance": []
  },
  "kernelspec": {
   "display_name": "Python 3",
   "language": "python",
   "name": "python3"
  },
  "language_info": {
   "codemirror_mode": {
    "name": "ipython",
    "version": 3
   },
   "file_extension": ".py",
   "mimetype": "text/x-python",
   "name": "python",
   "nbconvert_exporter": "python",
   "pygments_lexer": "ipython3",
   "version": "3.8.5"
  }
 },
 "nbformat": 4,
 "nbformat_minor": 1
}
